{
 "cells": [
  {
   "cell_type": "code",
   "execution_count": 1,
   "metadata": {},
   "outputs": [],
   "source": [
    "from picamera import PiCamera\n",
    "import numpy as np\n",
    "import time\n",
    "import cv2\n",
    "\n",
    "camera = PiCamera()\n",
    "time.sleep(0.1)"
   ]
  },
  {
   "cell_type": "code",
   "execution_count": 4,
   "metadata": {},
   "outputs": [
    {
     "data": {
      "text/plain": [
       "230400"
      ]
     },
     "execution_count": 4,
     "metadata": {},
     "output_type": "execute_result"
    }
   ],
   "source": [
    "camera.resolution = (320, 240)\n",
    "# camera.framerate = 10\n",
    "rawCapture = np.empty((240, 320, 3), dtype=np.uint8)\n",
    "camera.capture(rawCapture, 'rgb')\n",
    "raw = rawCapture.tobytes()\n",
    "len(raw)"
   ]
  },
  {
   "cell_type": "code",
   "execution_count": 5,
   "metadata": {},
   "outputs": [
    {
     "name": "stdout",
     "output_type": "stream",
     "text": [
      "0.041411399841308594\n"
     ]
    }
   ],
   "source": [
    "import threading\n",
    "import socket\n",
    "import struct\n",
    "\n",
    "def job(host, port, data):\n",
    "    sock = socket.socket(socket.AF_INET, socket.SOCK_STREAM)\n",
    "    sock.connect((host, port))\n",
    "    packed_size = struct.pack(\"i\", len(data))\n",
    "    sock.sendall(packed_size)\n",
    "    sock.sendall(data)\n",
    "\n",
    "host = '192.168.1.3'\n",
    "    \n",
    "t = time.time()\n",
    "t1 = threading.Thread(target=job, args=(host, 5555, raw[:len(raw)//4]))\n",
    "t2 = threading.Thread(target=job, args=(host, 5556, raw[len(raw)//4:len(raw)//2]))\n",
    "t3 = threading.Thread(target=job, args=(host, 5557, raw[len(raw)//2:len(raw)*3//4]))\n",
    "t4 = threading.Thread(target=job, args=(host, 5558, raw[len(raw)*3//4:]))\n",
    "t1.start()\n",
    "t2.start()\n",
    "t3.start()\n",
    "t4.start()\n",
    "t1.join()\n",
    "t2.join()\n",
    "t3.join()\n",
    "t4.join()\n",
    "print(time.time()-t)"
   ]
  },
  {
   "cell_type": "code",
   "execution_count": null,
   "metadata": {},
   "outputs": [],
   "source": []
  }
 ],
 "metadata": {
  "kernelspec": {
   "display_name": "Python 3",
   "language": "python",
   "name": "python3"
  },
  "language_info": {
   "codemirror_mode": {
    "name": "ipython",
    "version": 3
   },
   "file_extension": ".py",
   "mimetype": "text/x-python",
   "name": "python",
   "nbconvert_exporter": "python",
   "pygments_lexer": "ipython3",
   "version": "3.5.3"
  }
 },
 "nbformat": 4,
 "nbformat_minor": 2
}
