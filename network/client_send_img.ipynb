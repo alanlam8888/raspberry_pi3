{
 "cells": [
  {
   "cell_type": "code",
   "execution_count": 1,
   "metadata": {
    "collapsed": true
   },
   "outputs": [],
   "source": [
    "import socket\n",
    "import struct\n",
    "import time\n",
    "import matplotlib.pyplot as plt\n",
    "import cv2"
   ]
  },
  {
   "cell_type": "code",
   "execution_count": 2,
   "metadata": {
    "collapsed": true
   },
   "outputs": [],
   "source": [
    "sock = socket.socket(socket.AF_INET, socket.SOCK_STREAM)\n",
    "host = '192.168.1.3'\n",
    "port = 5555\n",
    "sock.connect((host, port))"
   ]
  },
  {
   "cell_type": "code",
   "execution_count": 35,
   "metadata": {},
   "outputs": [
    {
     "name": "stdout",
     "output_type": "stream",
     "text": [
      "0.0214688777924\n"
     ]
    },
    {
     "data": {
      "text/plain": [
       "153600"
      ]
     },
     "execution_count": 35,
     "metadata": {},
     "output_type": "execute_result"
    }
   ],
   "source": [
    "img = cv2.imread('test_img_large.jpg')\n",
    "t = time.time()\n",
    "img = cv2.resize(img, (img.shape[1]//4, img.shape[0]//4))\n",
    "raw = img.tobytes()\n",
    "# raw = raw[:len(raw)//3]\n",
    "print(time.time()-t)\n",
    "len(raw)"
   ]
  },
  {
   "cell_type": "code",
   "execution_count": null,
   "metadata": {
    "collapsed": true
   },
   "outputs": [],
   "source": [
    "import threading\n",
    "\n",
    "def job(raw):\n",
    "    packed_size = struct.pack(\"i\", len(raw))\n",
    "    sock.sendall(packed_size)\n",
    "    sock.sendall(raw)\n",
    "\n",
    "t = time.time()\n",
    "t1 = threading.Thread(target=job, args=(raw[:len(raw)//2], ))\n",
    "t2 = threading.Thread(target=job, args=(raw[len(raw)//2:], ))\n",
    "t1.start()\n",
    "t2.start()\n",
    "t1.join()\n",
    "t2.join()\n",
    "print(time.time()-t)"
   ]
  },
  {
   "cell_type": "code",
   "execution_count": 36,
   "metadata": {},
   "outputs": [
    {
     "data": {
      "text/plain": [
       "0.026118040084838867"
      ]
     },
     "execution_count": 36,
     "metadata": {},
     "output_type": "execute_result"
    }
   ],
   "source": [
    "# img = plt.imread('test_img_large.jpg')\n",
    "t = time.time()\n",
    "# raw = img.tobytes()\n",
    "packed_size = struct.pack(\"i\", len(raw))\n",
    "sock.sendall(packed_size)\n",
    "sock.sendall(raw)\n",
    "time.time()-t"
   ]
  },
  {
   "cell_type": "code",
   "execution_count": null,
   "metadata": {
    "collapsed": true
   },
   "outputs": [],
   "source": []
  }
 ],
 "metadata": {
  "kernelspec": {
   "display_name": "Python 3",
   "language": "python",
   "name": "python3"
  },
  "language_info": {
   "codemirror_mode": {
    "name": "ipython",
    "version": 3
   },
   "file_extension": ".py",
   "mimetype": "text/x-python",
   "name": "python",
   "nbconvert_exporter": "python",
   "pygments_lexer": "ipython3",
   "version": "3.6.1"
  }
 },
 "nbformat": 4,
 "nbformat_minor": 2
}
