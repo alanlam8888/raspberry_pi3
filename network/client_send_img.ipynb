{
 "cells": [
  {
   "cell_type": "code",
   "execution_count": 1,
   "metadata": {
    "collapsed": true
   },
   "outputs": [],
   "source": [
    "import socket\n",
    "import struct\n",
    "import time\n",
    "import cv2"
   ]
  },
  {
   "cell_type": "code",
   "execution_count": 2,
   "metadata": {
    "collapsed": true
   },
   "outputs": [],
   "source": [
    "sock1 = socket.socket(socket.AF_INET, socket.SOCK_STREAM)\n",
    "host = '127.0.0.1'#'36.231.62.198'\n",
    "port = 5555\n",
    "sock1.connect((host, port))\n",
    "\n",
    "sock2 = socket.socket(socket.AF_INET, socket.SOCK_STREAM)\n",
    "host = '127.0.0.1'#'36.231.62.198'\n",
    "port = 5556\n",
    "sock2.connect((host, port))"
   ]
  },
  {
   "cell_type": "code",
   "execution_count": 3,
   "metadata": {},
   "outputs": [
    {
     "name": "stdout",
     "output_type": "stream",
     "text": [
      "0.012715578079223633\n"
     ]
    },
    {
     "data": {
      "text/plain": [
       "460800"
      ]
     },
     "execution_count": 3,
     "metadata": {},
     "output_type": "execute_result"
    }
   ],
   "source": [
    "img = cv2.imread('test_img_large.jpg')\n",
    "t = time.time()\n",
    "img = cv2.resize(img, (img.shape[1]//4, img.shape[0]//4))\n",
    "raw = img.tobytes()\n",
    "# raw = raw[:len(raw)//3]\n",
    "print(time.time()-t)\n",
    "len(raw)"
   ]
  },
  {
   "cell_type": "code",
   "execution_count": 5,
   "metadata": {},
   "outputs": [
    {
     "name": "stdout",
     "output_type": "stream",
     "text": [
      "12.917414665222168\n"
     ]
    },
    {
     "name": "stderr",
     "output_type": "stream",
     "text": [
      "Exception in thread Thread-6:\n",
      "Traceback (most recent call last):\n",
      "  File \"/usr/lib/python3.5/threading.py\", line 914, in _bootstrap_inner\n",
      "    self.run()\n",
      "  File \"/usr/lib/python3.5/threading.py\", line 862, in run\n",
      "    self._target(*self._args, **self._kwargs)\n",
      "  File \"<ipython-input-5-6bb20464fc21>\", line 6, in job\n",
      "    sock.sendall(raw)\n",
      "ConnectionResetError: [Errno 104] Connection reset by peer\n",
      "\n"
     ]
    }
   ],
   "source": [
    "import threading\n",
    "\n",
    "def job(sock, raw):\n",
    "    packed_size = struct.pack(\"i\", len(raw))\n",
    "    sock.sendall(packed_size)\n",
    "    sock.sendall(raw)\n",
    "\n",
    "t = time.time()\n",
    "t1 = threading.Thread(target=job, args=(sock1, raw[:len(raw)//2]))\n",
    "t2 = threading.Thread(target=job, args=(sock2, raw[len(raw)//2:]))\n",
    "t1.start()\n",
    "t2.start()\n",
    "t1.join()\n",
    "t2.join()\n",
    "print(time.time()-t)"
   ]
  },
  {
   "cell_type": "code",
   "execution_count": 36,
   "metadata": {},
   "outputs": [
    {
     "data": {
      "text/plain": [
       "0.026118040084838867"
      ]
     },
     "execution_count": 36,
     "metadata": {},
     "output_type": "execute_result"
    }
   ],
   "source": [
    "# img = plt.imread('test_img_large.jpg')\n",
    "t = time.time()\n",
    "# raw = img.tobytes()\n",
    "packed_size = struct.pack(\"i\", len(raw))\n",
    "sock.sendall(packed_size)\n",
    "sock.sendall(raw)\n",
    "time.time()-t"
   ]
  },
  {
   "cell_type": "code",
   "execution_count": null,
   "metadata": {
    "collapsed": true
   },
   "outputs": [],
   "source": []
  }
 ],
 "metadata": {
  "kernelspec": {
   "display_name": "Python 3",
   "language": "python",
   "name": "python3"
  },
  "language_info": {
   "codemirror_mode": {
    "name": "ipython",
    "version": 3
   },
   "file_extension": ".py",
   "mimetype": "text/x-python",
   "name": "python",
   "nbconvert_exporter": "python",
   "pygments_lexer": "ipython3",
   "version": "3.6.1"
  }
 },
 "nbformat": 4,
 "nbformat_minor": 2
}
