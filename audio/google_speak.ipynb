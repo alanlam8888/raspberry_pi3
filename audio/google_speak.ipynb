{
 "cells": [
  {
   "cell_type": "code",
   "execution_count": 63,
   "metadata": {},
   "outputs": [],
   "source": [
    "import speech_recognition\n",
    "import tempfile\n",
    "from gtts import gTTS\n",
    "import time\n",
    "import wave\n",
    "import pyaudio\n",
    "from pygame import mixer\n",
    "mixer.init()\n",
    "\n",
    "def listenTo():\n",
    "    \n",
    "    CHUNK = 2048*20\n",
    "    FORMAT = pyaudio.paInt16\n",
    "    CHANNELS = 1\n",
    "    RATE = 44100\n",
    "    RECORD_SECONDS = 5\n",
    "    WAVE_OUTPUT_FILENAME = \"test.wav\"\n",
    "\n",
    "    p = pyaudio.PyAudio()\n",
    "\n",
    "    stream = p.open(format=FORMAT,\n",
    "                    channels=CHANNELS,\n",
    "                    rate=RATE,\n",
    "                    input=True,\n",
    "                    frames_per_buffer=CHUNK)\n",
    "\n",
    "    print(\"* recording\")\n",
    "\n",
    "    frames = []\n",
    "\n",
    "    for i in range(0, int(RATE / CHUNK * RECORD_SECONDS)):\n",
    "        data = stream.read(CHUNK, exception_on_overflow = False)\n",
    "        frames.append(data)\n",
    "\n",
    "    print(\"* done recording\")\n",
    "    stream.stop_stream()\n",
    "    stream.close()\n",
    "    p.terminate()\n",
    "\n",
    "    wf = wave.open(WAVE_OUTPUT_FILENAME, 'wb')\n",
    "    wf.setnchannels(CHANNELS)\n",
    "    wf.setsampwidth(p.get_sample_size(FORMAT))\n",
    "    wf.setframerate(RATE)\n",
    "    wf.writeframes(b''.join(frames))\n",
    "    wf.close()\n",
    "    \n",
    "    r = speech_recognition.Recognizer()\n",
    "    with speech_recognition.AudioFile('test.wav') as source:\n",
    "        audio = r.record(source)\n",
    "    t = time.time()\n",
    "    s = r.recognize_google(audio, language='cmn-Hant-TW')\n",
    "    print('recognize audio', time.time()-t)\n",
    "    return s\n",
    "    \n",
    "def speak(sentence, lang='zh-tw'):\n",
    "    t = time.time()\n",
    "    with tempfile.NamedTemporaryFile(delete=True) as fp:\n",
    "        tts =gTTS(text=sentence, lang=lang)\n",
    "        tts.save(fp.name+'.mp3')\n",
    "        mixer.music.load(fp.name+'.mp3')\n",
    "        mixer.music.play()\n",
    "    print('text to speech', time.time()-t)\n",
    "# print(listenTo())\n",
    "\n",
    "# speak(listenTo())"
   ]
  },
  {
   "cell_type": "code",
   "execution_count": 5,
   "metadata": {},
   "outputs": [
    {
     "name": "stdout",
     "output_type": "stream",
     "text": [
      "* recording\n",
      "* done recording\n",
      "recognize audio 1.4038827419281006\n",
      "text to speech 1.3179740905761719\n"
     ]
    }
   ],
   "source": [
    "qa = {'我想吃':'不要只會吃',\n",
    "      '想睡覺':'去休息一下',\n",
    "      '我愛你':'我也是'\n",
    "     }\n",
    "speak(qa.get(listenTo(),'人家還不能聽懂很多話'))"
   ]
  },
  {
   "cell_type": "code",
   "execution_count": 37,
   "metadata": {},
   "outputs": [
    {
     "name": "stdout",
     "output_type": "stream",
     "text": [
      "* recording\n",
      "* done recording\n",
      "recognize audio 1.4433808326721191\n",
      "text to speech 1.6072170734405518\n"
     ]
    }
   ],
   "source": [
    "# 閱讀維基百科\n",
    "import requests\n",
    "from bs4 import BeautifulSoup\n",
    "\n",
    "def getWiki (term):\n",
    "    res = requests.get('http://zh.wikipedia.org/wiki/{}'.format(term))\n",
    "    soup = BeautifulSoup(res.text, features='html.parser')\n",
    "    article = soup.select_one('.mw-parser-output p').text\n",
    "    \n",
    "    return article\n",
    "\n",
    "speak(getWiki(listenTo()))"
   ]
  },
  {
   "cell_type": "code",
   "execution_count": 66,
   "metadata": {},
   "outputs": [
    {
     "name": "stdout",
     "output_type": "stream",
     "text": [
      "* recording\n",
      "* done recording\n",
      "recognize audio 1.4303851127624512\n",
      "用力打電腦\n",
      "コンピュータを激しく打つ\n",
      "text to speech 1.2920241355895996\n"
     ]
    }
   ],
   "source": [
    "from googletrans import Translator\n",
    "lang = 'ja'\n",
    "translator = Translator()\n",
    "l = listenTo()\n",
    "print(l)\n",
    "s = translator.translate(l, lang, 'zh-TW').text\n",
    "print(s)\n",
    "speak(s, lang)"
   ]
  },
  {
   "cell_type": "code",
   "execution_count": null,
   "metadata": {},
   "outputs": [],
   "source": []
  }
 ],
 "metadata": {
  "kernelspec": {
   "display_name": "Python 3",
   "language": "python",
   "name": "python3"
  },
  "language_info": {
   "codemirror_mode": {
    "name": "ipython",
    "version": 3
   },
   "file_extension": ".py",
   "mimetype": "text/x-python",
   "name": "python",
   "nbconvert_exporter": "python",
   "pygments_lexer": "ipython3",
   "version": "3.5.3"
  }
 },
 "nbformat": 4,
 "nbformat_minor": 2
}
