{
 "cells": [
  {
   "cell_type": "code",
   "execution_count": 58,
   "metadata": {},
   "outputs": [
    {
     "name": "stdout",
     "output_type": "stream",
     "text": [
      "* recording\n",
      "* done recording\n",
      "('read audio', 0.010174036026000977)\n",
      "('recognize audio', 1.3876159191131592)\n",
      "('text to speech', 1.1973979473114014)\n"
     ]
    }
   ],
   "source": [
    "import speech_recognition\n",
    "import tempfile\n",
    "from gtts import gTTS\n",
    "import time\n",
    "import wave\n",
    "import pyaudio\n",
    "from pygame import mixer\n",
    "mixer.init()\n",
    "\n",
    "def listenTo():\n",
    "    \n",
    "    CHUNK = 2048*20\n",
    "    FORMAT = pyaudio.paInt16\n",
    "    CHANNELS = 1\n",
    "    RATE = 44100\n",
    "    RECORD_SECONDS = 5\n",
    "    WAVE_OUTPUT_FILENAME = \"test.wav\"\n",
    "\n",
    "    p = pyaudio.PyAudio()\n",
    "\n",
    "    stream = p.open(format=FORMAT,\n",
    "                    channels=CHANNELS,\n",
    "                    rate=RATE,\n",
    "                    input=True,\n",
    "                    frames_per_buffer=CHUNK)\n",
    "\n",
    "    print(\"* recording\")\n",
    "\n",
    "    frames = []\n",
    "\n",
    "    for i in range(0, int(RATE / CHUNK * RECORD_SECONDS)):\n",
    "        data = stream.read(CHUNK)\n",
    "        frames.append(data)\n",
    "\n",
    "    print(\"* done recording\")\n",
    "    stream.stop_stream()\n",
    "    stream.close()\n",
    "    p.terminate()\n",
    "\n",
    "    wf = wave.open(WAVE_OUTPUT_FILENAME, 'wb')\n",
    "    wf.setnchannels(CHANNELS)\n",
    "    wf.setsampwidth(p.get_sample_size(FORMAT))\n",
    "    wf.setframerate(RATE)\n",
    "    wf.writeframes(b''.join(frames))\n",
    "    wf.close()\n",
    "    \n",
    "    r = speech_recognition.Recognizer()\n",
    "    with speech_recognition.AudioFile('test.wav') as source:\n",
    "        audio = r.record(source)\n",
    "    t = time.time()\n",
    "    s = r.recognize_google(audio, language='cmn-Hant-TW')\n",
    "    print('recognize audio', time.time()-t)\n",
    "    return s\n",
    "    \n",
    "def speak(sentence):\n",
    "    t = time.time()\n",
    "    with tempfile.NamedTemporaryFile(delete=True) as fp:\n",
    "        tts =gTTS(text=sentence, lang='zh-tw')\n",
    "        tts.save(fp.name+'.mp3')\n",
    "        mixer.music.load(fp.name+'.mp3')\n",
    "        mixer.music.play()\n",
    "    print('text to speech', time.time()-t)\n",
    "# print(listenTo())\n",
    "\n",
    "speak(listenTo())"
   ]
  },
  {
   "cell_type": "code",
   "execution_count": 45,
   "metadata": {},
   "outputs": [],
   "source": [
    "r = speech_recognition.Recognizer()\n",
    "r.recognize_google"
   ]
  },
  {
   "cell_type": "code",
   "execution_count": 24,
   "metadata": {},
   "outputs": [
    {
     "name": "stdout",
     "output_type": "stream",
     "text": [
      "(0, u'USB PnP Sound Device: Audio (hw:0,0)')\n",
      "(1, u'bcm2835 ALSA: - (hw:1,0)')\n",
      "(2, u'sysdefault')\n",
      "(3, u'spdif')\n",
      "(4, u'default')\n"
     ]
    }
   ],
   "source": [
    "for index, name in enumerate(speech_recognition.Microphone.list_microphone_names()):\n",
    "    print(index, name)"
   ]
  },
  {
   "cell_type": "code",
   "execution_count": null,
   "metadata": {},
   "outputs": [],
   "source": []
  },
  {
   "cell_type": "code",
   "execution_count": null,
   "metadata": {},
   "outputs": [],
   "source": []
  }
 ],
 "metadata": {
  "kernelspec": {
   "display_name": "Python 2",
   "language": "python",
   "name": "python2"
  },
  "language_info": {
   "codemirror_mode": {
    "name": "ipython",
    "version": 2
   },
   "file_extension": ".py",
   "mimetype": "text/x-python",
   "name": "python",
   "nbconvert_exporter": "python",
   "pygments_lexer": "ipython2",
   "version": "2.7.13"
  }
 },
 "nbformat": 4,
 "nbformat_minor": 2
}
